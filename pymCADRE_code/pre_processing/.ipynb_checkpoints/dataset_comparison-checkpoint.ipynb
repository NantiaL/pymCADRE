{
 "cells": [
  {
   "cell_type": "code",
   "execution_count": 26,
   "metadata": {
    "scrolled": true
   },
   "outputs": [],
   "source": [
    "__author__ = \"Nantia Leonidou\"\n",
    "__description__ = \" Data Pre-Processing \"\n",
    "\n",
    "import csv\n",
    "import pandas as pd\n",
    "import requests\n",
    "import json\n",
    "\n",
    "# read file with gene info\n",
    "# TODO change file name\n",
    "#file_name = 'Airway_epithelial_cells_gene_expression_data/12866_2018_1187_MOESM1_ESM.csv'\n",
    "file_name1 = '12866_2018_1187_MOESM1_ESM_entrezIDs.csv'\n",
    "file_name2 = '12866_2018_1187_MOESM2_ESM_entrezIDs.csv'\n",
    "file_name3 = '12866_2018_1187_MOESM3_ESM_entrezIDs.csv'\n",
    "\n",
    "# read data\n",
    "data1 = pd.read_csv(file_name1, sep=',', header=0)\n",
    "data2 = pd.read_csv(file_name2, sep=',', header=0)\n",
    "data3 = pd.read_csv(file_name3, sep=',', header=0)"
   ]
  },
  {
   "cell_type": "code",
   "execution_count": 30,
   "metadata": {
    "scrolled": true
   },
   "outputs": [],
   "source": [
    "id_1 = data1['Gene_Symbol']\n",
    "id_2 = data2['Gene_Symbol']\n",
    "id_3 = data3['Gene_Symbol']"
   ]
  },
  {
   "cell_type": "code",
   "execution_count": 32,
   "metadata": {},
   "outputs": [
    {
     "name": "stdout",
     "output_type": "stream",
     "text": [
      "2033\n",
      "1241\n",
      "12950\n"
     ]
    }
   ],
   "source": [
    "print(len(id_1))\n",
    "print(len(id_2))\n",
    "print(len(id_3))"
   ]
  },
  {
   "cell_type": "code",
   "execution_count": 66,
   "metadata": {
    "scrolled": true
   },
   "outputs": [
    {
     "name": "stdout",
     "output_type": "stream",
     "text": [
      "149\n",
      "1345\n",
      "909\n"
     ]
    }
   ],
   "source": [
    "# intersections\n",
    "inter1 = list(set(id_1) & set(id_2))\n",
    "inter2 = list(set(id_1) & set(id_3))\n",
    "inter3 = list(set(id_2) & set(id_3))\n",
    "print(len(inter1))\n",
    "print(len(inter2))\n",
    "print(len(inter3))"
   ]
  },
  {
   "cell_type": "code",
   "execution_count": 67,
   "metadata": {},
   "outputs": [
    {
     "name": "stdout",
     "output_type": "stream",
     "text": [
      "3115\n",
      "13427\n",
      "13071\n"
     ]
    }
   ],
   "source": [
    "# unions\n",
    "union1 = list(set(id_1) | set(id_2)) \n",
    "union2 = list(set(id_1) | set(id_3)) \n",
    "union3 = list(set(id_2) | set(id_3))\n",
    "print(len(union1))\n",
    "print(len(union2))\n",
    "print(len(union3))"
   ]
  },
  {
   "cell_type": "code",
   "execution_count": null,
   "metadata": {},
   "outputs": [],
   "source": []
  },
  {
   "cell_type": "code",
   "execution_count": 65,
   "metadata": {},
   "outputs": [
    {
     "data": {
      "image/png": "[encoded data removed]",
      "text/plain": [
       "<Figure size 432x288 with 1 Axes>"
      ]
     },
     "metadata": {},
     "output_type": "display_data"
    }
   ],
   "source": [
    "# Import the library\n",
    "import matplotlib.pyplot as plt\n",
    "from matplotlib_venn import venn3\n",
    " \n",
    "# Custom text labels: change the label of group A\n",
    "v=venn3(subsets = (len(inter1),len(inter2), len(inter3),len(union1),len(union2), len(union3), len(id_1), len(id_2), len(id_3)), set_labels = ('_MOESM1_ESM', '_MOESM2_ESM', '_MOESM3_ESM'))\n",
    "#v=venn3(subsets = (10, 8, 22, 6,9,4,2), set_labels = ('Group A', 'Group B', 'Group C'))\n",
    "plt.savefig('venn_diagram_dataset_genes.png')\n",
    "plt.show()\n",
    "\n"
   ]
  },
  {
   "cell_type": "code",
   "execution_count": null,
   "metadata": {},
   "outputs": [],
   "source": []
  }
 ],
 "metadata": {
  "kernelspec": {
   "display_name": "Python 3",
   "language": "python",
   "name": "python3"
  },
  "language_info": {
   "codemirror_mode": {
    "name": "ipython",
    "version": 3
   },
   "file_extension": ".py",
   "mimetype": "text/x-python",
   "name": "python",
   "nbconvert_exporter": "python",
   "pygments_lexer": "ipython3",
   "version": "3.7.3"
  }
 },
 "nbformat": 4,
 "nbformat_minor": 2
}
