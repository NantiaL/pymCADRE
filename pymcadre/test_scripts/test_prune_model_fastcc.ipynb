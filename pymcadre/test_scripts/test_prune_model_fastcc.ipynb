{
 "cells": [
  {
   "cell_type": "markdown",
   "id": "38f8d682",
   "metadata": {},
   "source": [
    "## fastcc"
   ]
  },
  {
   "cell_type": "code",
   "execution_count": null,
   "id": "efa9759c",
   "metadata": {},
   "outputs": [],
   "source": [
    "__author__ = \"Nantia Leonidou\"\n",
    "__description__ = \" Main script \"\n",
    "\n",
    "import pandas as pd\n",
    "import numpy as np\n",
    "from rank.rank_reactions import *\n",
    "from prune.prune_model import *"
   ]
  },
  {
   "cell_type": "code",
   "execution_count": null,
   "id": "060f391c",
   "metadata": {},
   "outputs": [],
   "source": [
    "# read model\n",
    "model = io.read_sbml_model('../pre_processing/dataset/recon1_with_BOF_and_VBOF.xml')\n",
    "# genes\n",
    "G = pd.read_csv('../pre_processing/dataset/1_GPL570_GSE3397/1_GPL570_GSE3397_entrez_ids.csv')\n",
    "G = list(G['ENTREZ_GENE_ID'])\n",
    "# ubiquity scores\n",
    "U = pd.read_csv('../pre_processing/dataset/1_GPL570_GSE3397/1_GPL570_GSE3397_ubiquity.csv', header=None)\n",
    "U = U.rename(columns={0: \"Scores\"})\n",
    "U = list(U['Scores'])\n",
    "#confidence_scores\n",
    "#confidence_scores = get_test_inputs('../testInputs.mat','../humanModel.mat')[3]\n",
    "#confidence_scores[-1] = 4\n",
    "confidence_scores = pd.read_csv('../pre_processing/dataset/Recon1_confidence_scores_with_BOF_and_VBOF.csv')\n",
    "confidence_scores = np.float64(list(confidence_scores['Confidence Score']))"
   ]
  },
  {
   "cell_type": "code",
   "execution_count": null,
   "id": "dc95943d",
   "metadata": {},
   "outputs": [],
   "source": [
    "GM, C, NC, P, Z, model_C = rank_reactions(model, G, U, confidence_scores, [], 2)   "
   ]
  },
  {
   "cell_type": "code",
   "execution_count": null,
   "id": "2b6fd499",
   "metadata": {},
   "outputs": [],
   "source": [
    "print(len(GM.reactions))\n",
    "print(len(GM.metabolites))\n",
    "print(len(GM.genes))\n",
    "print(len(C))\n",
    "print(len(NC))\n",
    "print(len(P))\n",
    "print(len(Z))\n",
    "print(len(model_C))"
   ]
  },
  {
   "cell_type": "code",
   "execution_count": null,
   "id": "b7979a3d",
   "metadata": {
    "scrolled": true
   },
   "outputs": [],
   "source": [
    "print('Generic model passed precursor metabolites test')\n",
    "\n",
    "##############################################################\n",
    "# If generic functionality test is passed, prune reactions\n",
    "###############################################################\n",
    "try:\n",
    "    \n",
    "    print('Pruning reactions...')\n",
    "    t0 = process_time()\n",
    "    PM, cRes = prune_model(GM, P, C, Z, 1/3, '../pre_processing/dataset/key_metabolites_RECON1.txt', 1, 2)\n",
    "    # Stop the stopwatch / counter\n",
    "    t_stop = process_time()\n",
    "    # compute elapsed time\n",
    "    pruneTime = t_stop - t0\n",
    "    \n",
    "    print('PASS...', 'Function prune_model ran without error')\n",
    "\n",
    "except (RuntimeError, TypeError, NameError) as inst:\n",
    "\n",
    "    print('FAIL...', 'Function prune_model was terminated with the error:')\n",
    "    print(type(inst))\n",
    "    print(inst.args)"
   ]
  },
  {
   "cell_type": "code",
   "execution_count": null,
   "id": "9eb8b6af",
   "metadata": {},
   "outputs": [],
   "source": [
    "print(len(PM.reactions))\n",
    "print(len(PM.metabolites))\n",
    "print(len(PM.genes))\n",
    "print(len(cRes))\n",
    "print(pruneTime)"
   ]
  },
  {
   "cell_type": "code",
   "execution_count": null,
   "id": "1956745f",
   "metadata": {},
   "outputs": [],
   "source": [
    "hours, rem = divmod(t_stop-t0, 3600)\n",
    "minutes, seconds = divmod(rem, 60)\n",
    "print(\"{:0>2}:{:0>2}:{:05.2f}\".format(int(hours),int(minutes),seconds))"
   ]
  },
  {
   "cell_type": "code",
   "execution_count": null,
   "id": "2f4f1f7b",
   "metadata": {},
   "outputs": [],
   "source": [
    "io.write_sbml_model(PM,\"final_python_recon1_with_BOF_BEC1_method2.xml\")"
   ]
  }
 ],
 "metadata": {
  "kernelspec": {
   "display_name": "Python 3",
   "language": "python",
   "name": "python3"
  },
  "language_info": {
   "codemirror_mode": {
    "name": "ipython",
    "version": 3
   },
   "file_extension": ".py",
   "mimetype": "text/x-python",
   "name": "python",
   "nbconvert_exporter": "python",
   "pygments_lexer": "ipython3",
   "version": "3.8.5"
  }
 },
 "nbformat": 4,
 "nbformat_minor": 5
}
