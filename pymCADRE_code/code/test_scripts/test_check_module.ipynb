{
 "cells": [
  {
   "cell_type": "code",
   "execution_count": 1,
   "id": "099bd8c2",
   "metadata": {},
   "outputs": [],
   "source": [
    "from check.find_ex_reactions import *\n",
    "from check.set_metabolite_bounds import *\n",
    "from check.find_required_rxns import *\n",
    "from check.check_rxn_flux import *\n",
    "from cobra import *"
   ]
  },
  {
   "cell_type": "code",
   "execution_count": 2,
   "id": "ebdc26be",
   "metadata": {},
   "outputs": [],
   "source": [
    "precursorMets = '../pre_processing/dataset/key_metabolites_RECON1.txt'"
   ]
  },
  {
   "cell_type": "markdown",
   "id": "5be344a2",
   "metadata": {},
   "source": [
    "### Test find_ex_reactions.py"
   ]
  },
  {
   "cell_type": "code",
   "execution_count": 3,
   "id": "da1ea2ef",
   "metadata": {},
   "outputs": [
    {
     "name": "stdout",
     "output_type": "stream",
     "text": [
      "## Testing find_ex_reactions...\n",
      "PASS... Function find_ex_rxns ran without error\n"
     ]
    }
   ],
   "source": [
    "print('## Testing find_ex_reactions...')\n",
    "\n",
    "model = io.read_sbml_model('../pre_processing/dataset/RECON1.xml')\n",
    "\n",
    "try:\n",
    "\n",
    "    exRxns = find_ex_rxns(model)\n",
    "    print('PASS...', 'Function find_ex_rxns ran without error')\n",
    "\n",
    "except (RuntimeError, TypeError, NameError) as inst:\n",
    "\n",
    "    print('FAIL...', 'Function find_ex_rxns was terminated with the error:')\n",
    "    print(type(inst))\n",
    "    print(inst.args)"
   ]
  },
  {
   "cell_type": "markdown",
   "id": "d1e6ce4d",
   "metadata": {},
   "source": [
    "### Test find_organic_ex_rxns.py"
   ]
  },
  {
   "cell_type": "code",
   "execution_count": 4,
   "id": "33d37de5",
   "metadata": {},
   "outputs": [
    {
     "data": {
      "text/plain": [
       "'## Testing find_organic_ex_rxns...'"
      ]
     },
     "metadata": {},
     "output_type": "display_data"
    },
    {
     "name": "stdout",
     "output_type": "stream",
     "text": [
      "PASS... Function find_ex_rxns ran without error\n"
     ]
    }
   ],
   "source": [
    "display('## Testing find_organic_ex_rxns...');\n",
    "\n",
    "model = io.read_sbml_model('../pre_processing/dataset/RECON1.xml')\n",
    "\n",
    "try:\n",
    "    organicExRxns = find_organic_ex_rxns(model, exRxns);\n",
    "    print('PASS...', 'Function find_ex_rxns ran without error')\n",
    "    \n",
    "except (RuntimeError, TypeError, NameError) as inst:\n",
    "    \n",
    "    print('FAIL...', 'Function find_ex_rxns was terminated with the error:')\n",
    "    print(type(inst))\n",
    "    print(inst.args)"
   ]
  },
  {
   "cell_type": "markdown",
   "id": "ea74cf69",
   "metadata": {},
   "source": [
    "### Test set_metabolite_bounds.py"
   ]
  },
  {
   "cell_type": "code",
   "execution_count": 5,
   "id": "4ab46385",
   "metadata": {},
   "outputs": [
    {
     "data": {
      "text/plain": [
       "'## Testing set_organic_met_bounds...'"
      ]
     },
     "metadata": {},
     "output_type": "display_data"
    },
    {
     "name": "stdout",
     "output_type": "stream",
     "text": [
      "PASS... Function find_ex_rxns ran without error\n",
      "## Testing output of set_organic_met_bounds...\n"
     ]
    }
   ],
   "source": [
    "display('## Testing set_organic_met_bounds...');\n",
    "model = io.read_sbml_model('../pre_processing/dataset/RECON1.xml')\n",
    "try:\n",
    "    testModel = set_organic_met_bounds(model, exRxns)\n",
    "    print('PASS...', 'Function find_ex_rxns ran without error')\n",
    "    \n",
    "except (RuntimeError, TypeError, NameError) as inst:\n",
    "    \n",
    "    print('FAIL...', 'Function find_ex_rxns was terminated with the error:')\n",
    "    print(type(inst))\n",
    "    print(inst.args)\n",
    "    \n",
    "# check all bounds were set correctly\n",
    "print(\"## Testing output of set_organic_met_bounds...\")\n",
    "# check if all organic reactions are in model\n",
    "for r in organicExRxns:\n",
    "    if testModel.reactions.get_by_id(r).lower_bound != 0:\n",
    "        print(\"Bound for [%s] not set correctly\" %r)"
   ]
  },
  {
   "cell_type": "markdown",
   "id": "93aa615e",
   "metadata": {},
   "source": [
    "### Test find_required_rxns.py"
   ]
  },
  {
   "cell_type": "code",
   "execution_count": 6,
   "id": "24d8e1a0",
   "metadata": {},
   "outputs": [
    {
     "data": {
      "text/plain": [
       "'## Testing find_required_rxns...'"
      ]
     },
     "metadata": {},
     "output_type": "display_data"
    },
    {
     "name": "stdout",
     "output_type": "stream",
     "text": [
      "PASS... Function find_ex_rxns ran without error\n"
     ]
    }
   ],
   "source": [
    "display('## Testing find_required_rxns...');\n",
    "model = io.read_sbml_model('../pre_processing/dataset/RECON1.xml')\n",
    "try:\n",
    "    testModel, requiredRxns = find_required_rxns(model, '../pre_processing/dataset/key_metabolites_RECON1.txt')\n",
    "    print('PASS...', 'Function find_ex_rxns ran without error')\n",
    "    \n",
    "except (RuntimeError, TypeError, NameError) as inst:\n",
    "    \n",
    "    print('FAIL...', 'Function find_ex_rxns was terminated with the error:')\n",
    "    print(type(inst))\n",
    "    print(inst.args)"
   ]
  },
  {
   "cell_type": "markdown",
   "id": "bcf9c328",
   "metadata": {},
   "source": [
    "### Test check_rxn_flux.py"
   ]
  },
  {
   "cell_type": "code",
   "execution_count": 8,
   "id": "70370adc",
   "metadata": {
    "scrolled": true
   },
   "outputs": [
    {
     "name": "stdout",
     "output_type": "stream",
     "text": [
      "## Checking for success on preceding tests...\n",
      "## Testing check_rxn_flux with functional input...\n",
      "PASS... Function check_rxn_flux ran without error\n",
      "## Testing check_rxn_flux with glucose uptake off...\n",
      "PASS... Function check_rxn_flux ran without error\n",
      "## Testing check_rxn_flux with one output blocked...\n",
      "PASS... Function check_rxn_flux ran without error\n"
     ]
    }
   ],
   "source": [
    "print('## Checking for success on preceding tests...')\n",
    "model = io.read_sbml_model('../pre_processing/dataset/RECON1.xml')\n",
    "try:\n",
    "    \n",
    "    metList = precursorMets\n",
    "    exRxns = find_ex_rxns(model)\n",
    "    testModel = set_organic_met_bounds(model, exRxns)\n",
    "    \n",
    "    \n",
    "    testModel, requiredRxns = find_required_rxns(model, metList)\n",
    "\n",
    "    # Allow uptake of glucose and CO2\n",
    "    testModel.reactions.get_by_id(\"EX_glc__D_e\").lower_bound = -5 \n",
    "    testModel.reactions.get_by_id(\"EX_co2_e\").lower_bound = -1000 \n",
    "\n",
    "    \n",
    "except(RuntimeError, TypeError, NameError) as inst:\n",
    "    \n",
    "    print('FAIL...', 'Cannot test check_rxn_flux because one of the preceding functions returned the error:')\n",
    "    print(type(inst))\n",
    "    print(inst.args)\n",
    "          \n",
    "# Test whether Recon1 passes functional check \n",
    "print('## Testing check_rxn_flux with functional input...')   \n",
    "\n",
    "try:\n",
    "    inactiveRequired = check_rxn_flux(testModel, requiredRxns)\n",
    "    print('PASS...','Function check_rxn_flux ran without error')\n",
    "    \n",
    "except(RuntimeError, TypeError, NameError) as inst:\n",
    "    \n",
    "    print('FAIL...', 'Function check_rxn_flux was terminated with the error:')\n",
    "    print(type(inst))\n",
    "    print(inst.args)\n",
    "    \n",
    "# Test if Recon 1 passes check when you 'break' it (turn off glucose)\n",
    "print('## Testing check_rxn_flux with glucose uptake off...')\n",
    "try:\n",
    "    with testModel:\n",
    "        testModel.reactions.get_by_id(\"EX_glc__D_e\").lower_bound == 0\n",
    "        inactiveRequired = check_rxn_flux(testModel, requiredRxns)\n",
    "        print('PASS...', 'Function check_rxn_flux ran without error')\n",
    "\n",
    "except (RuntimeError, TypeError, NameError) as inst:\n",
    "    \n",
    "    print('FAIL...', 'Function check_rxn_flux was terminated with the error:')\n",
    "    print(type(inst))\n",
    "    print(inst.args)\n",
    "    \n",
    "\n",
    "# Test if Recon 1 passes check when you 'break' it (output blocked)    \n",
    "print('## Testing check_rxn_flux with one output blocked...')\n",
    "try:\n",
    "    with testModel:\n",
    "        testModel.reactions.get_by_id(\"DM_3pg_c\").upper_bound == 0\n",
    "        inactiveRequired = check_rxn_flux(testModel, requiredRxns)\n",
    "        print('PASS...', 'Function check_rxn_flux ran without error')\n",
    "\n",
    "except (RuntimeError, TypeError, NameError) as inst:\n",
    "    \n",
    "    print('FAIL...', 'Function check_rxn_flux was terminated with the error:')\n",
    "    print(type(inst))\n",
    "    print(inst.args)"
   ]
  },
  {
   "cell_type": "markdown",
   "id": "93c421a1",
   "metadata": {},
   "source": [
    "### Test check_model_function.py"
   ]
  },
  {
   "cell_type": "code",
   "execution_count": 23,
   "id": "c6dc3f5a",
   "metadata": {},
   "outputs": [
    {
     "name": "stdout",
     "output_type": "stream",
     "text": [
      "## Testing check_model_function with default inputs...\n",
      "check_model_function done ....\n",
      "PASS... Function check_model_function ran without error\n",
      "PASS... Check for functionality returns expected result\n"
     ]
    }
   ],
   "source": [
    "from check.check_model_function import *\n",
    "# test with default inputs\n",
    "print('## Testing check_model_function with default inputs...')\n",
    "model = io.read_sbml_model('../pre_processing/dataset/RECON1.xml')\n",
    "\n",
    "try:\n",
    "    \n",
    "    genericStatus = check_model_function(model,'requiredMets', precursorMets)\n",
    "    print('PASS...', 'Function check_model_function ran without error')\n",
    "    \n",
    "    if genericStatus:\n",
    "        print('PASS...', \n",
    "            'Check for functionality returns expected result')\n",
    "    else:\n",
    "        print('FAIL...', \n",
    "            'Check for functionality returns unexpected result')\n",
    "        \n",
    "except (RuntimeError, TypeError, NameError) as inst:\n",
    "    \n",
    "    print('FAIL...', 'Function check_model_function was terminated with the error:')\n",
    "    print(type(inst))\n",
    "    print(inst.args)\n",
    "    "
   ]
  }
 ],
 "metadata": {
  "kernelspec": {
   "display_name": "Python 3",
   "language": "python",
   "name": "python3"
  },
  "language_info": {
   "codemirror_mode": {
    "name": "ipython",
    "version": 3
   },
   "file_extension": ".py",
   "mimetype": "text/x-python",
   "name": "python",
   "nbconvert_exporter": "python",
   "pygments_lexer": "ipython3",
   "version": "3.8.5"
  }
 },
 "nbformat": 4,
 "nbformat_minor": 5
}
