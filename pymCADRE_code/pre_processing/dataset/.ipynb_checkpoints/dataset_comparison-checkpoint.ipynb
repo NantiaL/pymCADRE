{
 "cells": [
  {
   "cell_type": "code",
   "execution_count": 128,
   "metadata": {
    "scrolled": true
   },
   "outputs": [],
   "source": [
    "__author__ = \"Nantia Leonidou\"\n",
    "__description__ = \" Human Metabolic Models \"\n",
    "\n",
    "import csv\n",
    "import pandas as pd\n",
    "import requests\n",
    "import json\n",
    "from cobra.io.sbml import *\n",
    "import numpy as np"
   ]
  },
  {
   "cell_type": "code",
   "execution_count": 2,
   "metadata": {},
   "outputs": [],
   "source": [
    "recon1 = read_sbml_model('RECON1.xml')\n",
    "recon3d = read_sbml_model('Recon3D.xml')"
   ]
  },
  {
   "cell_type": "code",
   "execution_count": 3,
   "metadata": {},
   "outputs": [],
   "source": [
    "rxns_recon1 = [r.id for r in recon1.reactions]\n",
    "rxns_recon3d = [r.id for r in recon3d.reactions]\n",
    "\n",
    "mets_recon1 = [m.id for m in recon1.metabolites]\n",
    "mets_recon3d = [m.id for m in recon3d.metabolites]\n",
    "\n",
    "transcripts_recon1 = [g.id for g in recon1.genes]\n",
    "transcripts_recon3d = [g.id for g in recon3d.genes]\n",
    "\n",
    "genes_recon1 = set([g.name for g in recon1.genes])\n",
    "genes_recon3d = set([g.name for g in recon3d.genes])"
   ]
  },
  {
   "cell_type": "code",
   "execution_count": 100,
   "metadata": {},
   "outputs": [
    {
     "data": {
      "text/html": [
       "<div>\n",
       "<style scoped>\n",
       "    .dataframe tbody tr th:only-of-type {\n",
       "        vertical-align: middle;\n",
       "    }\n",
       "\n",
       "    .dataframe tbody tr th {\n",
       "        vertical-align: top;\n",
       "    }\n",
       "\n",
       "    .dataframe thead th {\n",
       "        text-align: right;\n",
       "    }\n",
       "</style>\n",
       "<table border=\"1\" class=\"dataframe\">\n",
       "  <thead>\n",
       "    <tr style=\"text-align: right;\">\n",
       "      <th></th>\n",
       "      <th>Recon1</th>\n",
       "      <th>Recon3D</th>\n",
       "    </tr>\n",
       "  </thead>\n",
       "  <tbody>\n",
       "    <tr>\n",
       "      <td>Total Number of Reactions</td>\n",
       "      <td>3741</td>\n",
       "      <td>10600</td>\n",
       "    </tr>\n",
       "    <tr>\n",
       "      <td>Total Number of Metabolites</td>\n",
       "      <td>2766</td>\n",
       "      <td>5835</td>\n",
       "    </tr>\n",
       "    <tr>\n",
       "      <td>Number of Transcripts</td>\n",
       "      <td>1905</td>\n",
       "      <td>2248</td>\n",
       "    </tr>\n",
       "    <tr>\n",
       "      <td>Number of Unique Genes</td>\n",
       "      <td>1497</td>\n",
       "      <td>1884</td>\n",
       "    </tr>\n",
       "  </tbody>\n",
       "</table>\n",
       "</div>"
      ],
      "text/plain": [
       "                             Recon1  Recon3D\n",
       "Total Number of Reactions      3741    10600\n",
       "Total Number of Metabolites    2766     5835\n",
       "Number of Transcripts          1905     2248\n",
       "Number of Unique Genes         1497     1884"
      ]
     },
     "execution_count": 100,
     "metadata": {},
     "output_type": "execute_result"
    }
   ],
   "source": [
    "info_df = pd.DataFrame([len(rxns_recon1), len(mets_recon1),len(transcripts_recon1), len(genes_recon1)], columns=['Recon1'], index=['Total Number of Reactions','Total Number of Metabolites', 'Number of Transcripts', 'Number of Unique Genes']) \n",
    "info_df.insert(1,\"Recon3D\", [len(rxns_recon3d), len(mets_recon3d), len(transcripts_recon3d), len(genes_recon3d)])\n",
    "info_df"
   ]
  },
  {
   "cell_type": "code",
   "execution_count": 150,
   "metadata": {},
   "outputs": [
    {
     "data": {
      "text/plain": [
       "1806"
      ]
     },
     "execution_count": 150,
     "metadata": {},
     "output_type": "execute_result"
    }
   ],
   "source": [
    "rxn_types = pd.DataFrame([len(recon1.demands), len(recon1.exchanges), len(recon1.sinks)], ['Demands', 'Exchanges', 'Sinks'])\n",
    "rxn_types.rename(columns = {0: 'Recon1'},inplace = True)\n",
    "rxn_types.insert(1,\"Recon3D\", [len(recon3d.demands), len(recon3d.exchanges), len(recon3d.sinks)])\n",
    "# dataframe with total values\n",
    "tot_df = pd.DataFrame([rxn_types['Recon1'].sum(axis=0), rxn_types['Recon3D'].sum(axis=0)])\n",
    "# append it to initial df\n",
    "rxn_types.append(tot_df)\n",
    "rxn_types\n",
    "rxn_types['Recon3D'].sum(axis=0)"
   ]
  },
  {
   "cell_type": "code",
   "execution_count": 4,
   "metadata": {},
   "outputs": [
    {
     "name": "stdout",
     "output_type": "stream",
     "text": [
      "Recon1 all compartments:  {'c': 'cytosol', 'e': 'extracellular space', 'l': 'lysosome', 'm': 'mitochondria', 'r': 'endoplasmic reticulum', 'g': 'golgi apparatus', 'n': 'nucleus', 'x': 'peroxisome/glyoxysome'}\n",
      "Recon3D all compartments: {'c': 'cytosol', 'l': 'lysosome', 'm': 'mitochondria', 'r': 'endoplasmic reticulum', 'e': 'extracellular space', 'x': 'peroxisome/glyoxysome', 'n': 'nucleus', 'g': 'golgi apparatus', 'i': 'inner mitochondrial compartment'}\n"
     ]
    }
   ],
   "source": [
    "print('Recon1 all compartments: ', recon1.compartments)\n",
    "print('Recon3D all compartments:' , recon3d.compartments)"
   ]
  },
  {
   "cell_type": "code",
   "execution_count": 81,
   "metadata": {},
   "outputs": [
    {
     "name": "stdout",
     "output_type": "stream",
     "text": [
      "Recon1: [('n', 95), ('x', 143), ('l', 217), ('r', 235), ('g', 284), ('m', 393), ('e', 404), ('c', 995)]\n",
      "Recon3D: [('i', 1), ('n', 95), ('g', 228), ('l', 234), ('x', 312), ('r', 571), ('m', 690), ('e', 1579), ('c', 2125)]\n"
     ]
    }
   ],
   "source": [
    "recon1_info = {'c': 0, 'e': 0, 'l': 0, 'm': 0, 'r': 0, 'g': 0, 'n': 0, 'x': 0}\n",
    "for met in recon1.metabolites:\n",
    "    recon1_info[met.compartment] += 1\n",
    "\n",
    "# sorted\n",
    "recon1_info = sorted(recon1_info.items(), key=lambda x: x[1])\n",
    "\n",
    "recon3d_info = {'c': 0, 'e': 0, 'l': 0, 'm': 0, 'r': 0, 'g': 0, 'n': 0, 'x': 0, 'i':0}\n",
    "for met in recon3d.metabolites:\n",
    "    recon3d_info[met.compartment] += 1\n",
    "\n",
    "# sorted\n",
    "recon3d_info = sorted(recon3d_info.items(), key=lambda x: x[1])\n",
    "\n",
    "print('Recon1:', recon1_info)\n",
    "print('Recon3D:', recon3d_info)"
   ]
  },
  {
   "cell_type": "code",
   "execution_count": 131,
   "metadata": {
    "scrolled": true
   },
   "outputs": [
    {
     "data": {
      "text/html": [
       "<div>\n",
       "<style scoped>\n",
       "    .dataframe tbody tr th:only-of-type {\n",
       "        vertical-align: middle;\n",
       "    }\n",
       "\n",
       "    .dataframe tbody tr th {\n",
       "        vertical-align: top;\n",
       "    }\n",
       "\n",
       "    .dataframe thead th {\n",
       "        text-align: right;\n",
       "    }\n",
       "</style>\n",
       "<table border=\"1\" class=\"dataframe\">\n",
       "  <thead>\n",
       "    <tr style=\"text-align: right;\">\n",
       "      <th></th>\n",
       "      <th>Recon1</th>\n",
       "      <th>Recon3D</th>\n",
       "    </tr>\n",
       "  </thead>\n",
       "  <tbody>\n",
       "    <tr>\n",
       "      <td>n</td>\n",
       "      <td>95</td>\n",
       "      <td>95</td>\n",
       "    </tr>\n",
       "    <tr>\n",
       "      <td>x</td>\n",
       "      <td>143</td>\n",
       "      <td>312</td>\n",
       "    </tr>\n",
       "    <tr>\n",
       "      <td>l</td>\n",
       "      <td>217</td>\n",
       "      <td>234</td>\n",
       "    </tr>\n",
       "    <tr>\n",
       "      <td>r</td>\n",
       "      <td>235</td>\n",
       "      <td>571</td>\n",
       "    </tr>\n",
       "    <tr>\n",
       "      <td>g</td>\n",
       "      <td>284</td>\n",
       "      <td>228</td>\n",
       "    </tr>\n",
       "    <tr>\n",
       "      <td>m</td>\n",
       "      <td>393</td>\n",
       "      <td>690</td>\n",
       "    </tr>\n",
       "    <tr>\n",
       "      <td>e</td>\n",
       "      <td>404</td>\n",
       "      <td>1579</td>\n",
       "    </tr>\n",
       "    <tr>\n",
       "      <td>c</td>\n",
       "      <td>995</td>\n",
       "      <td>2125</td>\n",
       "    </tr>\n",
       "    <tr>\n",
       "      <td>i</td>\n",
       "      <td>0</td>\n",
       "      <td>1</td>\n",
       "    </tr>\n",
       "  </tbody>\n",
       "</table>\n",
       "</div>"
      ],
      "text/plain": [
       "   Recon1  Recon3D\n",
       "n      95       95\n",
       "x     143      312\n",
       "l     217      234\n",
       "r     235      571\n",
       "g     284      228\n",
       "m     393      690\n",
       "e     404     1579\n",
       "c     995     2125\n",
       "i       0        1"
      ]
     },
     "execution_count": 131,
     "metadata": {},
     "output_type": "execute_result"
    }
   ],
   "source": [
    "df_recon1 = pd.DataFrame(recon1_info, columns =['Compartment', 'No. Metabolites1']).set_index('Compartment')\n",
    "df_recon3d = pd.DataFrame(recon3d_info, columns =['Compartment', 'No. Metabolites2']).set_index('Compartment')\n",
    "merged_df = pd.concat([df_recon1, df_recon3d], axis=1, sort=False)\n",
    "merged_df.rename(columns = {'No. Metabolites1': 'Recon1', 'No. Metabolites2': 'Recon3D'}, inplace = True)\n",
    "merged_df.replace(np.nan,0, inplace =True)\n",
    "merged_df.Recon1 = merged_df.Recon1.astype(int)\n",
    "merged_df"
   ]
  },
  {
   "cell_type": "code",
   "execution_count": 83,
   "metadata": {
    "scrolled": true
   },
   "outputs": [
    {
     "data": {
      "text/plain": [
       "<matplotlib.axes._subplots.AxesSubplot at 0x26cee430>"
      ]
     },
     "execution_count": 83,
     "metadata": {},
     "output_type": "execute_result"
    },
    {
     "data": {
      "image/png": "[encoded data removed]",
      "text/plain": [
       "<Figure size 432x288 with 1 Axes>"
      ]
     },
     "metadata": {
      "needs_background": "light"
     },
     "output_type": "display_data"
    },
    {
     "data": {
      "image/png": "[encoded data removed]",
      "text/plain": [
       "<Figure size 432x288 with 1 Axes>"
      ]
     },
     "metadata": {
      "needs_background": "light"
     },
     "output_type": "display_data"
    }
   ],
   "source": [
    "# plot\n",
    "df_recon1.plot(kind='bar',y='No. Metabolites', x='Compartment',colormap='Pastel1')\n",
    "df_recon3d.plot(kind='bar',y='No. Metabolites', x='Compartment',colormap='Pastel2')"
   ]
  },
  {
   "cell_type": "code",
   "execution_count": null,
   "metadata": {},
   "outputs": [],
   "source": []
  },
  {
   "cell_type": "code",
   "execution_count": null,
   "metadata": {},
   "outputs": [],
   "source": []
  },
  {
   "cell_type": "code",
   "execution_count": null,
   "metadata": {},
   "outputs": [],
   "source": []
  },
  {
   "cell_type": "code",
   "execution_count": null,
   "metadata": {},
   "outputs": [],
   "source": []
  },
  {
   "cell_type": "code",
   "execution_count": null,
   "metadata": {
    "scrolled": true
   },
   "outputs": [],
   "source": [
    "# intersections\n",
    "inter1 = list(set(id_1) & set(id_2))\n",
    "inter2 = list(set(id_1) & set(id_3))\n",
    "inter3 = list(set(id_2) & set(id_3))\n",
    "print(len(inter1))\n",
    "print(len(inter2))\n",
    "print(len(inter3))"
   ]
  },
  {
   "cell_type": "code",
   "execution_count": null,
   "metadata": {},
   "outputs": [],
   "source": [
    "# unions\n",
    "union1 = list(set(id_1) | set(id_2)) \n",
    "union2 = list(set(id_1) | set(id_3)) \n",
    "union3 = list(set(id_2) | set(id_3))\n",
    "print(len(union1))\n",
    "print(len(union2))\n",
    "print(len(union3))"
   ]
  },
  {
   "cell_type": "code",
   "execution_count": null,
   "metadata": {},
   "outputs": [],
   "source": []
  },
  {
   "cell_type": "code",
   "execution_count": null,
   "metadata": {},
   "outputs": [],
   "source": [
    "# Import the library\n",
    "import matplotlib.pyplot as plt\n",
    "from matplotlib_venn import venn3\n",
    " \n",
    "# Custom text labels: change the label of group A\n",
    "v=venn3(subsets = (3741,10600,500), set_labels = ('_MOESM1_ESM', '_MOESM2_ESM', '_MOESM3_ESM'))\n",
    "v=venn3(subsets = (10, 8, 22, 6,9,4,2), set_labels = ('Group A', 'Group B', 'Group C'))\n",
    "plt.savefig('venn_diagram_dataset_genes.png')\n",
    "plt.show()\n",
    "\n"
   ]
  },
  {
   "cell_type": "code",
   "execution_count": null,
   "metadata": {},
   "outputs": [],
   "source": []
  }
 ],
 "metadata": {
  "kernelspec": {
   "display_name": "Python 3",
   "language": "python",
   "name": "python3"
  },
  "language_info": {
   "codemirror_mode": {
    "name": "ipython",
    "version": 3
   },
   "file_extension": ".py",
   "mimetype": "text/x-python",
   "name": "python",
   "nbconvert_exporter": "python",
   "pygments_lexer": "ipython3",
   "version": "3.7.4"
  }
 },
 "nbformat": 4,
 "nbformat_minor": 2
}
