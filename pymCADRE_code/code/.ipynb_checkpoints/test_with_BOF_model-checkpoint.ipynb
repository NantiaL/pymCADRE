{
 "cells": [
  {
   "cell_type": "code",
   "execution_count": 7,
   "metadata": {},
   "outputs": [],
   "source": [
    "__author__ = \"Nantia Leonidou\"\n",
    "__description__ = \" Main script \"\n",
    "########################################\n",
    "# copied from run_mcadre.py\n",
    "########################################\n",
    "\n",
    "from test_Inputs.test_Inputs import *\n",
    "import pandas as pd\n",
    "import numpy as np\n",
    "\n",
    "# read model\n",
    "model = io.read_sbml_model('../pre_processing/dataset/Recon2.2_formatted.xml')\n",
    "for r in model.reactions:\n",
    "    r.lower_bound = -1000\n",
    "    r.upper_bound = 10000\n",
    "# genes\n",
    "G = pd.read_csv('../pre_processing/dataset/1_GPL570_GSE3397/1_GPL570_GSE3397_entrez_ids.csv')\n",
    "G = list(G['ENTREZ_GENE_ID'])\n",
    "# ubiquity scores\n",
    "U = pd.read_csv('../pre_processing/dataset/1_GPL570_GSE3397/1_GPL570_GSE3397_ubiquity.csv', header=None)\n",
    "U = U.rename(columns={0: \"Scores\"})\n",
    "U = list(U['Scores'])\n",
    "#confidence_scores \n",
    "confidence_scores = pd.read_csv('../pre_processing/dataset/Recon2_confidence_scores.csv')\n",
    "confidence_scores = list(confidence_scores['Confidence Score'])"
   ]
  },
  {
   "cell_type": "code",
   "execution_count": null,
   "metadata": {},
   "outputs": [],
   "source": [
    "from rank.rank_reactions import *\n",
    "GM, C, NC, P, Z, model_C = rank_reactions(model, G, U, confidence_scores, [], 1)"
   ]
  },
  {
   "cell_type": "code",
   "execution_count": null,
   "metadata": {},
   "outputs": [],
   "source": [
    "len(GM.reactions)"
   ]
  },
  {
   "cell_type": "code",
   "execution_count": null,
   "metadata": {},
   "outputs": [],
   "source": []
  },
  {
   "cell_type": "code",
   "execution_count": null,
   "metadata": {},
   "outputs": [],
   "source": []
  }
 ],
 "metadata": {
  "kernelspec": {
   "display_name": "Python 3",
   "language": "python",
   "name": "python3"
  },
  "language_info": {
   "codemirror_mode": {
    "name": "ipython",
    "version": 3
   },
   "file_extension": ".py",
   "mimetype": "text/x-python",
   "name": "python",
   "nbconvert_exporter": "python",
   "pygments_lexer": "ipython3",
   "version": "3.7.4"
  }
 },
 "nbformat": 4,
 "nbformat_minor": 2
}
