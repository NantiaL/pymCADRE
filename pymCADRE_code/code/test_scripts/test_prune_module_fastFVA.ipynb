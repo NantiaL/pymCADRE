{
 "cells": [
  {
   "cell_type": "code",
   "execution_count": null,
   "id": "646b0456",
   "metadata": {},
   "outputs": [],
   "source": [
    "__author__ = \"Nantia Leonidou\"\n",
    "__description__ = \" Main script \"\n",
    "\n",
    "import pandas as pd\n",
    "import numpy as np\n",
    "from rank.rank_reactions import *\n",
    "from prune.prune_model import *"
   ]
  },
  {
   "cell_type": "markdown",
   "id": "5c7216cd",
   "metadata": {},
   "source": [
    "## fastFVA"
   ]
  },
  {
   "cell_type": "code",
   "execution_count": null,
   "id": "c69075ee",
   "metadata": {},
   "outputs": [],
   "source": [
    "# read model\n",
    "model = io.read_sbml_model('../pre_processing/dataset/recon1_with_BOF_and_VBOF.xml')\n",
    "# genes\n",
    "G = pd.read_csv('../pre_processing/dataset/1_GPL570_GSE3397/1_GPL570_GSE3397_entrez_ids.csv')\n",
    "G = list(G['ENTREZ_GENE_ID'])\n",
    "# ubiquity scores\n",
    "U = pd.read_csv('../pre_processing/dataset/1_GPL570_GSE3397/1_GPL570_GSE3397_ubiquity.csv', header=None)\n",
    "U = U.rename(columns={0: \"Scores\"})\n",
    "U = list(U['Scores'])\n",
    "#confidence_scores\n",
    "#confidence_scores = get_test_inputs('../testInputs.mat','../humanModel.mat')[3]\n",
    "#confidence_scores[-1] = 4\n",
    "confidence_scores = pd.read_csv('../pre_processing/dataset/Recon1_confidence_scores_with_BOF_and_VBOF.csv')\n",
    "confidence_scores = np.float64(list(confidence_scores['Confidence Score']))"
   ]
  },
  {
   "cell_type": "code",
   "execution_count": null,
   "id": "1f08210f",
   "metadata": {},
   "outputs": [],
   "source": [
    "GM, C, NC, P, Z, model_C = rank_reactions(model, G, U, confidence_scores, [], 1)"
   ]
  },
  {
   "cell_type": "code",
   "execution_count": null,
   "id": "f15053d3",
   "metadata": {},
   "outputs": [],
   "source": [
    "print(len(GM.reactions))\n",
    "print(len(GM.metabolites))\n",
    "print(len(GM.genes))\n",
    "print(len(C))\n",
    "print(len(NC))\n",
    "print(len(P))\n",
    "print(len(Z))\n",
    "print(len(model_C))"
   ]
  },
  {
   "cell_type": "code",
   "execution_count": null,
   "id": "947767c9",
   "metadata": {
    "scrolled": true
   },
   "outputs": [],
   "source": [
    "print('Generic model passed precursor metabolites test')\n",
    "\n",
    "##############################################################\n",
    "# If generic functionality test is passed, prune reactions\n",
    "###############################################################\n",
    "try:\n",
    "    \n",
    "    print('Pruning reactions...')\n",
    "    t0 = process_time()\n",
    "    PM, cRes = prune_model(GM, P, C, Z, 1/3, '../pre_processing/dataset/key_metabolites_RECON1.txt', 1, 1)\n",
    "    # Stop the stopwatch / counter\n",
    "    t_stop = process_time()\n",
    "    # compute elapsed time\n",
    "    pruneTime = t_stop - t0\n",
    "    \n",
    "    print('PASS...', 'Function prune_model ran without error')\n",
    "\n",
    "except (RuntimeError, TypeError, NameError) as inst:\n",
    "\n",
    "    print('FAIL...', 'Function prune_model was terminated with the error:')\n",
    "    print(type(inst))\n",
    "    print(inst.args)"
   ]
  },
  {
   "cell_type": "code",
   "execution_count": null,
   "id": "045859f1",
   "metadata": {},
   "outputs": [],
   "source": [
    "print(len(PM.reactions))\n",
    "print(len(PM.metabolites))\n",
    "print(len(PM.genes))\n",
    "print(len(cRes))\n",
    "print(pruneTime)"
   ]
  },
  {
   "cell_type": "code",
   "execution_count": null,
   "id": "06ed49f8",
   "metadata": {},
   "outputs": [],
   "source": [
    "hours, rem = divmod(19989.509817, 3600)\n",
    "minutes, seconds = divmod(rem, 60)\n",
    "print(\"{:0>2}:{:0>2}:{:05.2f}\".format(int(hours),int(minutes),seconds))"
   ]
  },
  {
   "cell_type": "code",
   "execution_count": null,
   "id": "3fc99734",
   "metadata": {},
   "outputs": [],
   "source": [
    "io.write_sbml_model(PM,\"test_fastFVA.xml\")"
   ]
  }
 ],
 "metadata": {
  "kernelspec": {
   "display_name": "Python 3",
   "language": "python",
   "name": "python3"
  },
  "language_info": {
   "codemirror_mode": {
    "name": "ipython",
    "version": 3
   },
   "file_extension": ".py",
   "mimetype": "text/x-python",
   "name": "python",
   "nbconvert_exporter": "python",
   "pygments_lexer": "ipython3",
   "version": "3.8.5"
  }
 },
 "nbformat": 4,
 "nbformat_minor": 5
}
