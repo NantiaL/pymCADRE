{
 "cells": [
  {
   "cell_type": "code",
   "execution_count": null,
   "id": "db03b1bf",
   "metadata": {},
   "outputs": [],
   "source": [
    "from prune.check_core_deadends import *\n",
    "from prune.find_inactive_rxns import *\n",
    "from cobra import *"
   ]
  },
  {
   "cell_type": "markdown",
   "id": "f9869463",
   "metadata": {},
   "source": [
    "### Test check_core_dead_ends"
   ]
  },
  {
   "cell_type": "code",
   "execution_count": null,
   "id": "2e3e7d2d",
   "metadata": {},
   "outputs": [],
   "source": [
    "print('## Testing check_core_dead_ends...')\n",
    "\n",
    "model = io.read_sbml_model('../pre_processing/dataset/recon1_with_BOF_and_VBOF.xml')\n",
    "C=['P4504B1r','SO4HCOtex','A_MANASEly','SPMS','ILETA','AGPRim','ESTRIOLtr','GLU5Km','UAG4Ei','UDPGLCter','CITtbm','UGALGTg',\n",
    "'THRt4','FRUt4','PROD2m','BILGLCURtr','ARTFR55','SPHMYLNtl','PI3P3Pn','THYMDtl','MESCOALm','ABUTt2r','RTOT_2','TDCHOLAte',\n",
    "'MI4PP','NTD5m','NRPPHRtu','EX_rbt_e','MEPIVESSte','CYSt4','NABTNO','3HPPD','ENMAN2g','AASAD3m','AGMTm','PPDOy','NACHEX9ly',\n",
    "'EX_acn13acngalgbside_hs_e','STRDNCCPT2','6DHFtm','EX_xolest2_hs_e','EX_lac__L_e','PCm','PI34P4Pn','DM_ethamp_r','FT',\n",
    "'FAOXC2252053m','INOSTO','TMNDNCCPT1','NTD1m','ELAIDCRNt','MI1PP','KSII_CORE4t','CSPG_Bt','ANDRSTRNtr','FUCACGALFUCGALACGLCGALGLUSIDEtg',\n",
    "'TTDCRNt','EX_dmhptcrn_e','GALACGLCGALGBSIDEtg','COAtp','LGNCCOAtx','DIGALSGALSIDEte','GASNASEly','NACHEX6ly','PA_HSter']\n",
    "\n",
    "\n",
    "try:\n",
    "\n",
    "    deadEnd_C = check_core_dead_ends(model, C)\n",
    "    \n",
    "    if len(deadEnd_C) == 1 and 'P4504B1r' in deadEnd_C:\n",
    "\n",
    "        print('Function returns the [expected] result: %s dead-end reactions' %len(deadEnd_C))\n",
    "\n",
    "    else:\n",
    "\n",
    "        print('Function returns the [unexpected] result: %s dead-end reactions' %len(deadEnd_C))\n",
    "\n",
    "    \n",
    "    print('PASS...', 'Function find_ex_rxns ran without error')\n",
    "\n",
    "except (RuntimeError, TypeError, NameError) as inst:\n",
    "\n",
    "    print('FAIL...', 'Function check_core_deadends was terminated with the error:')\n",
    "    print(type(inst))\n",
    "    print(inst.args)"
   ]
  },
  {
   "cell_type": "markdown",
   "id": "a1e9275a",
   "metadata": {},
   "source": [
    "#### Test with small core which should contain no dead-end metabolites"
   ]
  },
  {
   "cell_type": "code",
   "execution_count": null,
   "id": "e4ec7acc",
   "metadata": {},
   "outputs": [],
   "source": [
    "model = io.read_sbml_model('../pre_processing/dataset/recon1_with_BOF_and_VBOF.xml')\n",
    "\n",
    "C = ['EX_glc__D_e']\n",
    "\n",
    "print(\"## Testing check_core_deadends with small core...\")\n",
    "try:\n",
    "\n",
    "    deadEnd_C = check_core_dead_ends(model, C)\n",
    "    \n",
    "    if len(deadEnd_C) == 0:\n",
    "\n",
    "        print('Function returns the [expected] result')\n",
    "\n",
    "    else:\n",
    "\n",
    "        print('Function returns the [unexpected] result')\n",
    "\n",
    "    \n",
    "    print('PASS...', 'Function find_ex_rxns ran without error')\n",
    "\n",
    "except (RuntimeError, TypeError, NameError) as inst:\n",
    "\n",
    "    print('FAIL...', 'Function check_core_deadends was terminated with the error:')\n",
    "    print(type(inst))\n",
    "    print(inst.args)"
   ]
  },
  {
   "cell_type": "markdown",
   "id": "eed5a1f5",
   "metadata": {},
   "source": [
    "### Test find_inactive_rxns"
   ]
  },
  {
   "cell_type": "code",
   "execution_count": null,
   "id": "d7d97fe9",
   "metadata": {},
   "outputs": [],
   "source": [
    "print('## Testing find_inactive_rxns...')\n",
    "\n",
    "\n",
    "model = io.read_sbml_model('../pre_processing/dataset/recon1_with_BOF_and_VBOF.xml')  # read model from SBML file\n",
    "\n",
    "try:\n",
    "\n",
    "    fast_fva = find_inactive_rxns(model)\n",
    "    \n",
    "    if len(fast_fva) == 1272:\n",
    "\n",
    "        print('Function returns the [expected] result: %s inactive reactions' %len(fast_fva))\n",
    "\n",
    "    else:\n",
    "\n",
    "        print('Function returns the [unexpected] result: %s inactive reactions' %len(fast_fva))\n",
    "\n",
    "    \n",
    "    print('PASS...', 'Function find_ex_rxns ran without error')\n",
    "\n",
    "except (RuntimeError, TypeError, NameError) as inst:\n",
    "\n",
    "    print('FAIL...', 'Function find_inactive_rxns was terminated with the error:')\n",
    "    print(type(inst))\n",
    "    print(inst.args)"
   ]
  },
  {
   "cell_type": "code",
   "execution_count": null,
   "id": "1c58c266",
   "metadata": {},
   "outputs": [],
   "source": [
    "# fastcc delivers each time different results. Thus, cannot be properly tested"
   ]
  },
  {
   "cell_type": "markdown",
   "id": "ca71a98b",
   "metadata": {},
   "source": [
    "### Test check_model_consistency"
   ]
  },
  {
   "cell_type": "code",
   "execution_count": null,
   "id": "15dc9cd3",
   "metadata": {},
   "outputs": [],
   "source": [
    "from time import process_time\n",
    "from prune.check_model_consistency import *\n",
    "\n",
    "print('## Testing check_model_consistency...')\n",
    "\n",
    "\n",
    "model = io.read_sbml_model('../pre_processing/dataset/recon1_with_BOF_and_VBOF.xml')  # read model from SBML file\n",
    "\n",
    "\n",
    "try:\n",
    "\n",
    "    check_consistency = check_model_consistency(model,1) \n",
    "    \n",
    "    if len(check_consistency[0]) == 1272: # should find 1272 blocked reactions in Recon1\n",
    "\n",
    "        print('Function returns the [expected] result')\n",
    "\n",
    "    else:\n",
    "\n",
    "        print('Function returns the [unexpected] result')\n",
    "\n",
    "    \n",
    "    print('PASS...', 'Function check_model_consistency ran without error')\n",
    "\n",
    "except (RuntimeError, TypeError, NameError) as inst:\n",
    "\n",
    "    print('FAIL...', 'Function check_model_consistency was terminated with the error:')\n",
    "    print(type(inst))\n",
    "    print(inst.args)"
   ]
  },
  {
   "cell_type": "markdown",
   "id": "90d724d8",
   "metadata": {},
   "source": [
    "#### Test with fastFVA, using consistent model + removed reaction"
   ]
  },
  {
   "cell_type": "code",
   "execution_count": null,
   "id": "0dc00427",
   "metadata": {},
   "outputs": [],
   "source": [
    "r = 'ACCOAC'\n",
    "model = io.read_sbml_model('../pre_processing/dataset/recon1_with_BOF_and_VBOF.xml')  # read model from SBML file\n",
    "\n",
    "try:\n",
    "\n",
    "    check_consistency = check_model_consistency(model,1,rxn_to_remove=[r])\n",
    "    \n",
    "    if len(check_consistency[0]) == 1285: # should find 13 inactive rxns in Recon1-consistent\n",
    "\n",
    "        print('Function returns the [expected] result')\n",
    "\n",
    "    else:\n",
    "\n",
    "        print('Function returns the [unexpected] result', len(check_consistency[0]))\n",
    "\n",
    "    \n",
    "    print('PASS...', 'Function check_model_consistency ran without error')\n",
    "\n",
    "except (RuntimeError, TypeError, NameError) as inst:\n",
    "\n",
    "    print('FAIL...', 'Function check_model_consistency was terminated with the error:')\n",
    "    print(type(inst))\n",
    "    print(inst.args)"
   ]
  },
  {
   "cell_type": "code",
   "execution_count": null,
   "id": "b87f8be6",
   "metadata": {},
   "outputs": [],
   "source": [
    "model"
   ]
  },
  {
   "cell_type": "code",
   "execution_count": null,
   "id": "6b39a75d",
   "metadata": {},
   "outputs": [],
   "source": []
  }
 ],
 "metadata": {
  "kernelspec": {
   "display_name": "Python 3",
   "language": "python",
   "name": "python3"
  },
  "language_info": {
   "codemirror_mode": {
    "name": "ipython",
    "version": 3
   },
   "file_extension": ".py",
   "mimetype": "text/x-python",
   "name": "python",
   "nbconvert_exporter": "python",
   "pygments_lexer": "ipython3",
   "version": "3.8.5"
  }
 },
 "nbformat": 4,
 "nbformat_minor": 5
}
