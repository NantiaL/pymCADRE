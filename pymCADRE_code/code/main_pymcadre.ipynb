{
  "cells": [
    {
      "cell_type": "code",
      "source": [
        "__author__ = \"Nantia Leonidou\"\n",
        "__description__ = \" Run pymCADRE \"\n",
        "\n",
        "from rank.rank_reactions import *\n",
        "from prune.prune_model import *"
      ],
      "outputs": [],
      "execution_count": null,
      "metadata": {}
    },
    {
      "cell_type": "markdown",
      "source": [
        "\n",
        "    Inputs:\n",
        "        - model: original generic model\n",
        "        - precursorMets: name of .txt file with precursor metabolites as string\n",
        "        - G: list of genes in expression data\n",
        "        - U: ubiquity scores corresponding to genes in G\n",
        "        - confidenceScores: literature-based evidence for generic model reactions\n",
        "        - salvageCheck: option flag for whether to perform functional check for the\n",
        "                        nucleotide salvage pathway (1) or not (0)\n",
        "        - C_H_genes: predefined high confidence reactions (optional)\n",
        "        - method: 1 = use fastFVA (glpk) to check consistency; 2 = use fastcc & cplex\n",
        "\n",
        "    Outputs:\n",
        "        - PM: pruned, context-specific model\n",
        "        - GM: generic model (after removing blocked reactions)\n",
        "        - C: core reactions in GM\n",
        "        - NC: non-core reactions in GM\n",
        "        - Z: reactions with zero expression (i.e., measured zero, not just\n",
        "             missing from expression data)\n",
        "        - model_C: core reactions in the original model (including blocked)\n",
        "        - pruneTime: total reaction pruning time\n",
        "        - cRes: result of model checks (consistency/function)\n",
        "            - vs. +: reaction r removed from generic model or not\n",
        "            1 vs. 2: reaction r had zero or non-zero expression evidence\n",
        "            -x.y: removal of reaction r corresponded with removal of y (num.) total core reactions\n",
        "            +x.1 vs. x.0: precursor production possible after removal of reaction r or not\n",
        "            3: removal of reaction r by itself prevented production of required metabolites (therefore was not removed)  \n"
      ],
      "metadata": {}
    },
    {
      "cell_type": "markdown",
      "source": [
        "## Import Sample Dataset"
      ],
      "metadata": {}
    },
    {
      "cell_type": "code",
      "source": [
        "# read model\n",
        "model = io.read_sbml_model('../test_dataset/recon1_with_BOF_and_VBOF.xml')\n",
        "# genes\n",
        "G = pd.read_csv('../test_dataset/1_GPL570_GSE3397/1_GPL570_GSE3397_entrez_ids.csv')\n",
        "G = list(G['ENTREZ_GENE_ID'])\n",
        "# ubiquity scores\n",
        "U = pd.read_csv('../test_dataset/1_GPL570_GSE3397/1_GPL570_GSE3397_ubiquity.csv', header=None)\n",
        "U = U.rename(columns={0: \"Scores\"})\n",
        "U = list(U['Scores'])\n",
        "#confidence_scores\n",
        "#confidence_scores = get_test_inputs('../testInputs.mat','../humanModel.mat')[3]\n",
        "#confidence_scores[-1] = 4\n",
        "confidence_scores = pd.read_csv('../test_dataset/Recon1_confidence_scores_with_BOF_and_VBOF.csv')\n",
        "confidence_scores = np.float64(list(confidence_scores['Confidence Score']))"
      ],
      "outputs": [],
      "execution_count": null,
      "metadata": {}
    },
    {
      "cell_type": "markdown",
      "source": [
        "## Ranking"
      ],
      "metadata": {}
    },
    {
      "cell_type": "code",
      "source": [
        "##############################################\n",
        "# Generate order for reaction removal\n",
        "##############################################\n",
        "# Gene ubiquity scores are converted to reaction expression evidence to\n",
        "# define the core (C) and non-core (NC) reaction sets. Inactive reactions\n",
        "# are identified and removed from the global model to produce the generic\n",
        "# model (GM) for subsequent pruning. Non-core reactions are ordered first\n",
        "# by expression and then by connectivity evidence to give the list P. Any\n",
        "# reactions with zero expression (i.e., associated, but non-expressed\n",
        "# genes) are also listed in the vector Z.\n",
        "\n",
        "print('Processing inputs and ranking reactions...')\n",
        "GM, C, NC, P, Z, model_C = rank_reactions(model, G, U, confidence_scores, [], 1)"
      ],
      "outputs": [],
      "execution_count": null,
      "metadata": {}
    },
    {
      "cell_type": "code",
      "source": [
        "print(len(GM.reactions),len(GM.metabolites),len(GM.genes),len(C),len(NC),len(Z),len(model_C))"
      ],
      "outputs": [],
      "execution_count": null,
      "metadata": {}
    },
    {
      "cell_type": "markdown",
      "source": [
        "## Check model consistency"
      ],
      "metadata": {}
    },
    {
      "cell_type": "code",
      "source": [
        "##################################################\n",
        "# Define inputs to the model pruning step\n",
        "##################################################\n",
        "# Define core vs. non-core ratio threshold for removing reactions\n",
        "eta = 1 / 3\n",
        "# Check functionality of generic model\n",
        "genericStatus = check_model_function(GM, 'required_mets', precursorMets)[0]"
      ],
      "outputs": [],
      "execution_count": null,
      "metadata": {}
    },
    {
      "cell_type": "markdown",
      "source": [
        "## Pruning"
      ],
      "metadata": {}
    },
    {
      "cell_type": "code",
      "source": [
        "if genericStatus:\n",
        "    print('Generic model passed precursor metabolites test')\n",
        "\n",
        "    ##############################################################\n",
        "    # If generic functionality test is passed, prune reactions\n",
        "    ###############################################################\n",
        "    print('Pruning reactions...')\n",
        "    t0 = process_time()\n",
        "    PM, cRes = prune_model(GM, P, C, Z, eta, '../test_dataset/key_metabolites_RECON1.txt', salvage_check=1, method=1)\n",
        "    # Stop the stopwatch / counter\n",
        "    t_stop = process_time()\n",
        "    # compute elapsed time\n",
        "    pruneTime = t_stop - t0\n",
        "\n",
        "else:\n",
        "    print('Generic model failed precursor metabolites test!!')"
      ],
      "outputs": [],
      "execution_count": null,
      "metadata": {}
    },
    {
      "cell_type": "code",
      "source": [
        "print(len(PM.reactions),len(PM.metabolites),len(PM.genes),pruneTime)"
      ],
      "outputs": [],
      "execution_count": null,
      "metadata": {}
    },
    {
      "cell_type": "markdown",
      "source": [
        "## Store pruned model"
      ],
      "metadata": {}
    },
    {
      "cell_type": "code",
      "source": [
        "#########################################\n",
        "# * store pruned model in SBML format *\n",
        "#########################################\n",
        "io.write_sbml_model(PM, \"pruned_model.xml\")"
      ],
      "outputs": [],
      "execution_count": null,
      "metadata": {}
    }
  ],
  "metadata": {
    "kernelspec": {
      "name": "python3",
      "language": "python",
      "display_name": "Python 3 (built-in)"
    },
    "language_info": {
      "name": "python",
      "version": "3.6.3",
      "mimetype": "text/x-python",
      "codemirror_mode": {
        "name": "ipython",
        "version": 3
      },
      "pygments_lexer": "ipython3",
      "nbconvert_exporter": "python",
      "file_extension": ".py"
    },
    "kernel_info": {
      "name": "python3"
    }
  },
  "nbformat": 4,
  "nbformat_minor": 2
}